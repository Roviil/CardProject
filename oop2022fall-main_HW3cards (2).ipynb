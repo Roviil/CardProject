{
 "cells": [
  {
   "attachments": {},
   "cell_type": "markdown",
   "metadata": {
    "datalore": {
     "hide_input_from_viewers": false,
     "hide_output_from_viewers": false,
     "node_id": "Q9CxweMun5a0XbsUBZrDlS",
     "report_properties": {},
     "type": "MD"
    }
   },
   "source": [
    "# HWcards (HNU CE 2022년 2학기 객체지향프로그래밍 과제)"
   ]
  },
  {
   "attachments": {},
   "cell_type": "markdown",
   "metadata": {
    "datalore": {
     "hide_input_from_viewers": false,
     "hide_output_from_viewers": false,
     "node_id": "Q5A2S6TSrMdfYsb3JvLfhO",
     "report_properties": {},
     "type": "MD"
    }
   },
   "source": [
    "- 이름: 배정훈\n",
    "- 학번: 20190580\n",
    "  "
   ]
  },
  {
   "attachments": {},
   "cell_type": "markdown",
   "metadata": {
    "datalore": {
     "hide_input_from_viewers": false,
     "hide_output_from_viewers": false,
     "node_id": "r3UkG1P2EhPPIy6q6KIpHe",
     "report_properties": {},
     "type": "MD"
    }
   },
   "source": [
    "Playing Cards로 하는 SPOONS같은 게임을 만들기 위한 준비작업을 하는 과제다.\n",
    "\n",
    "- `Deck` 인터페이스를 구현하는 `GameDeck` 클래스 작성\n",
    "  - `GameDeck`에 포함된 `CardItem`객체는 up 속성을 `false`로 하여 카드 뒷면이 보이게\n",
    "- `Player` 인터페이스를 구현하는 두 종류의 클래스 `HumanPlayer`와 `ComputerPlayer`를 작성\n",
    "  - `HumanPlayer`는\n",
    "    - `hand`에 든 `CardItem`객체를 `up` 속성을 `true`로 하여 카드 앞면이 드러나 보이게\n",
    "    - `put`메소드에서 표준입력으로 0부터 시작하는 정수 형태의 인덱스 값을 사용자에게 입력받아 `hand`의 해당 인덱스 위치의 카드를 내려놓도록 작성\n",
    "  - `ComputerPlayer`는\n",
    "    - `hand`에 든 `CardItem`객체의 `up` 속성을 `false`로 하여 카드 뒷면이 보이게\n",
    "    - 일단 이 과제에서는 `ComputerPlayer`는 무조건 `hand`의 첫 카드(즉 인덱스 0)를 내려놓도록 `put`메소드 작성\n",
    "- `GameDeck`, `HumanPlayer`, `ComputerPlayer` 모두 보기좋게 보여주기 위해 `ToHTML` 인터페이스도 구현하라 "
   ]
  },
  {
   "cell_type": "code",
   "execution_count": 11,
   "metadata": {
    "datalore": {
     "hide_input_from_viewers": false,
     "hide_output_from_viewers": false,
     "node_id": "mmYzBeSDttiKvvKH3ysclM",
     "report_properties": {},
     "type": "CODE"
    }
   },
   "outputs": [],
   "source": [
    "enum class Symbol { SPADE, HEART, DIA, CLUB; } // 모양\n",
    "\n",
    "enum class Card(val face: String, val back: String = \"🂠\") { // 카드의 종류\n",
    "    SA(\"🂡\"),S2(\"🂢\"),S3(\"🂣\"),S4(\"🂤\"),S5(\"🂥\"),S6(\"🂦\"),\n",
    "    S7(\"🂧\"),S8(\"🂨\"),S9(\"🂩\"),S0(\"🂪\"),SJ(\"🂫\"),SQ(\"🂭\"),SK(\"🂮\"),\n",
    "    HA(\"🂱\"),H2(\"🂲\"),H3(\"🂳\"),H4(\"🂴\"),H5(\"🂵\"),H6(\"🂶\"),\n",
    "    H7(\"🂷\"),H8(\"🂸\"),H9(\"🂹\"),H0(\"🂺\"),HJ(\"🂻\"),HQ(\"🂽\"),HK(\"🂾\"),\n",
    "    DA(\"🃁\"),D2(\"🃂\"),D3(\"🃃\"),D4(\"🃄\"),D5(\"🃅\"),D6(\"🃆\"),\n",
    "    D7(\"🃇\"),D8(\"🃈\"),D9(\"🃉\"),D0(\"🃊\"),DJ(\"🃋\"),DQ(\"🃍\"),DK(\"🃎\"),\n",
    "    CA(\"🃑\"),C2(\"🃒\"),C3(\"🃓\"),C4(\"🃔\"),C5(\"🃕\"),C6(\"🃖\"),\n",
    "    C7(\"🃗\"),C8(\"🃘\"),C9(\"🃙\"),C0(\"🃚\"),CJ(\"🃛\"),CQ(\"🃝\"),CK(\"🃞\");\n",
    "    \n",
    "    fun symbol() = when(this) {\n",
    "        in SA..SK -> Symbol.SPADE\n",
    "        in HA..HK -> Symbol.HEART\n",
    "        in DA..DK -> Symbol.DIA\n",
    "        else      -> Symbol.CLUB // 나머지 경우는 \n",
    "    }\n",
    "    \n",
    "    fun color() = when(symbol()) {\n",
    "        Symbol.SPADE -> \"black\"\n",
    "        Symbol.HEART -> \"red\"\n",
    "        Symbol.DIA   -> \"red\"\n",
    "        Symbol.CLUB  -> \"black\"\n",
    "    }\n",
    "    \n",
    "    fun rank() = this.ordinal % 13 + 1 // A가 1, 숫자는 숫자값, J,Q,K는 11,12,13\n",
    "}"
   ]
  },
  {
   "cell_type": "code",
   "execution_count": 12,
   "metadata": {
    "datalore": {
     "hide_input_from_viewers": false,
     "hide_output_from_viewers": false,
     "node_id": "3jDt4ATfeQ1pPDCu2tdPG3",
     "report_properties": {},
     "type": "CODE"
    }
   },
   "outputs": [],
   "source": [
    "data class CardItem(val card: Card, var up: Boolean = false) { // 카드 한장\n",
    "    fun symbol() = card.symbol()\n",
    "    fun color() = card.color()\n",
    "    fun rank() = card.rank()\n",
    "    fun show() = if(up) card.face else card.back\n",
    "}"
   ]
  },
  {
   "cell_type": "code",
   "execution_count": 13,
   "metadata": {
    "datalore": {
     "hide_input_from_viewers": false,
     "hide_output_from_viewers": false,
     "node_id": "6nCgpzDpZDzvK9Rt5O4Tzh",
     "report_properties": {},
     "type": "CODE"
    }
   },
   "outputs": [],
   "source": [
    "object MyUtil {\n",
    "    fun readLn(): String {\n",
    "        try {\n",
    "            return readln()\n",
    "        } catch (e: Exception) {\n",
    "            val msg = e.message\n",
    "            if (msg != null) {\n",
    "                val curr = msg.split('\\n').last()\n",
    "                val prefix = \"Current input: {\\\"status\\\":\\\"ok\\\",\\\"value\\\":\"\n",
    "                if ( curr.startsWith(prefix) ) {\n",
    "                    return curr.drop( prefix.length + 1 ).dropLast(1 + 1)\n",
    "                }\n",
    "            }\n",
    "            throw e\n",
    "        }\n",
    "    }\n",
    "    fun readNonNegativeIntUntilSuccess(): Int {\n",
    "        do {\n",
    "             val z = this.readLn().toIntOrNull()\n",
    "             if (z != null && z >= 0) return z\n",
    "        } while (true)\n",
    "    }\n",
    "    val style = \"\"\"\n",
    "<style>\n",
    "@import url('https://fonts.googleapis.com/css2?family=Noto+Sans+Symbols+2&display=swap');\n",
    ".card {\n",
    "    display: inline-block; \n",
    "    font-size: 60pt; height: 62pt;\n",
    "    font-family: \"Noto Sans Symbols 2\", sans-serif;\n",
    "    background: rgba(255,255,255, 1) !important;\n",
    "}\n",
    ".deck { margin-right:-32pt; }\n",
    "</style>\n",
    "\"\"\"\n",
    "}\n",
    "}"
   ]
  },
  {
   "cell_type": "code",
   "execution_count": 14,
   "metadata": {
    "datalore": {
     "hide_input_from_viewers": false,
     "hide_output_from_viewers": false,
     "node_id": "MDSjBgZvJZM4dPvW995YqG",
     "report_properties": {},
     "type": "CODE"
    }
   },
   "outputs": [
    {
     "data": {
      "text/html": [
       "\n",
       "<style>\n",
       "@import url('https://fonts.googleapis.com/css2?family=Noto+Sans+Symbols+2&display=swap');\n",
       ".card {\n",
       "    display: inline-block; \n",
       "    font-size: 60pt; height: 62pt;\n",
       "    font-family: \"Noto Sans Symbols 2\", sans-serif;\n",
       "    background: rgba(255,255,255, 1) !important;\n",
       "}\n",
       ".deck { margin-right:-32pt; }\n",
       "</style>\n",
       "<span class='card deck'\n",
       "        style='color: red;'>🂻</span><span class='card deck'\n",
       "        style='color: black;'>🂫</span><span class='card deck'\n",
       "        style='color: black;'>🃘</span><span class='card deck'\n",
       "        style='color: black;'>🃔</span><span class='card deck'\n",
       "        style='color: red;'>🃋</span><span class='card deck'\n",
       "        style='color: black;'>🃛</span><span class='card deck'\n",
       "        style='color: red;'>🃇</span><span class='card deck'\n",
       "        style='color: black;'>🃓</span><span class='card deck'\n",
       "        style='color: red;'>🃆</span><span class='card deck'\n",
       "        style='color: black;'>🃒</span><span class='card deck'\n",
       "        style='color: red;'>🃎</span><span class='card deck'\n",
       "        style='color: red;'>🃁</span><span class='card deck'\n",
       "        style='color: black;'>🃞</span><span class='card deck'\n",
       "        style='color: red;'>🃂</span><span class='card deck'\n",
       "        style='color: black;'>🃕</span><span class='card deck'\n",
       "        style='color: red;'>🂴</span><span class='card deck'\n",
       "        style='color: black;'>🂩</span><span class='card deck'\n",
       "        style='color: black;'>🃗</span><span class='card deck'\n",
       "        style='color: red;'>🂽</span><span class='card deck'\n",
       "        style='color: black;'>🂤</span><span class='card deck'\n",
       "        style='color: red;'>🂱</span><span class='card deck'\n",
       "        style='color: red;'>🃈</span><span class='card deck'\n",
       "        style='color: black;'>🂦</span><span class='card deck'\n",
       "        style='color: red;'>🃊</span><span class='card deck'\n",
       "        style='color: black;'>🃙</span><span class='card deck'\n",
       "        style='color: black;'>🂢</span><span class='card deck'\n",
       "        style='color: red;'>🂵</span><span class='card deck'\n",
       "        style='color: red;'>🃅</span><span class='card deck'\n",
       "        style='color: red;'>🂹</span><span class='card deck'\n",
       "        style='color: red;'>🂲</span><span class='card deck'\n",
       "        style='color: red;'>🃄</span><span class='card deck'\n",
       "        style='color: red;'>🂶</span><span class='card deck'\n",
       "        style='color: red;'>🂷</span><span class='card deck'\n",
       "        style='color: black;'>🂣</span><span class='card deck'\n",
       "        style='color: black;'>🃚</span><span class='card deck'\n",
       "        style='color: black;'>🂨</span><span class='card deck'\n",
       "        style='color: red;'>🃍</span><span class='card deck'\n",
       "        style='color: black;'>🂮</span><span class='card deck'\n",
       "        style='color: red;'>🂾</span><span class='card deck'\n",
       "        style='color: red;'>🂸</span><span class='card deck'\n",
       "        style='color: black;'>🃝</span><span class='card deck'\n",
       "        style='color: red;'>🃉</span><span class='card deck'\n",
       "        style='color: black;'>🂪</span><span class='card deck'\n",
       "        style='color: black;'>🂡</span><span class='card deck'\n",
       "        style='color: black;'>🃖</span><span class='card deck'\n",
       "        style='color: black;'>🂥</span><span class='card deck'\n",
       "        style='color: black;'>🂭</span><span class='card deck'\n",
       "        style='color: red;'>🂳</span><span class='card deck'\n",
       "        style='color: red;'>🃃</span><span class='card deck'\n",
       "        style='color: red;'>🂺</span><span class='card deck'\n",
       "        style='color: black;'>🃑</span><span class='card deck'\n",
       "        style='color: black;'>🂧</span>"
      ]
     },
     "metadata": {},
     "output_type": "display_data"
    }
   ],
   "source": [
    "HTML(\n",
    "    Card.values().toList().shuffled()\n",
    "        .map { CardItem(it,true) }\n",
    "        .fold(MyUtil.style) { acc, c -> acc +\n",
    "\"\"\"<span class='card deck'\n",
    "        style='color: ${if (c.up) c.color() else \"black\"};'>${c.show()}</span>\"\"\"\n",
    "        }\n",
    ")"
   ]
  },
  {
   "cell_type": "code",
   "execution_count": 15,
   "metadata": {
    "datalore": {
     "hide_input_from_viewers": true,
     "hide_output_from_viewers": true,
     "node_id": "9uo2kDhjtwPyMpKTM1Ml04",
     "report_properties": {},
     "type": "CODE"
    }
   },
   "outputs": [],
   "source": [
    "interface Deck {\n",
    "    fun size(): Int\n",
    "    fun draw(): CardItem // 덱에서 카드를 뽑기\n",
    "    fun put(c: CardItem) // 덱에 카드 c를 놓기\n",
    "}\n",
    "\n",
    "interface Player {\n",
    "    val hand: MutableList<CardItem> // 이것도 가능!!\n",
    "    fun draw(d: Deck) // 덱 d로부터 카드 하나 뽑기\n",
    "    fun put(d: Deck)  // 카드 하나를 덱 d에 놓기\n",
    "}\n",
    "\n",
    "interface ToHTML {\n",
    "    fun toHTML(): String // 해당 객체를 표현하는 HTML 소스코드 문자열 생성\n",
    "}"
   ]
  },
  {
   "cell_type": "code",
   "execution_count": 17,
   "metadata": {
    "datalore": {
     "hide_input_from_viewers": false,
     "hide_output_from_viewers": false,
     "node_id": "1dWxFgH9XdtU3wNGLVYhvt",
     "report_properties": {},
     "type": "CODE"
    }
   },
   "outputs": [],
   "source": [
    "\n",
    "class GameDeck() : Deck, ToHTML\n",
    "{\n",
    "    val d_list : MutableList<CardItem>\n",
    "    init\n",
    "    {\n",
    "        d_list = Card.values().toList().shuffled().map { CardItem(it, false) }. shuffled().toMutableList()\n",
    "    }\n",
    "    \n",
    "    override fun size() = d_list.size\n",
    "    override fun draw() : CardItem{\n",
    "        val t_deck = d_list[d_list.size - 1]\n",
    "        d_list.removeAt(d_list.size - 1)\n",
    "        return t_deck\n",
    "    }\n",
    "\n",
    "    override fun put(c : CardItem){\n",
    "        d_list.add(c)\n",
    "    }\n",
    "\n",
    "    override fun toHTML(): String{\n",
    "        val m: String = d_list.fold(MyUtil.style)\n",
    "        { \n",
    "            acc, c -> acc + \"\"\"<span class='card deck' style='color: ${if (c.up) c.color() else \"black\"};'>${c.show()}</span>\"\"\"\n",
    "        }\n",
    "        return m\n",
    "    }\n",
    "    \n",
    "\n",
    "}"
   ]
  },
  {
   "cell_type": "code",
   "execution_count": 43,
   "metadata": {
    "datalore": {
     "hide_input_from_viewers": true,
     "hide_output_from_viewers": true,
     "node_id": "tGJjQK9SMShbAEHGUbB97D",
     "type": "CODE"
    }
   },
   "outputs": [],
   "source": [
    "open class HumanPlayer() : Player, ToHTML{\n",
    "    override val hand: MutableList<CardItem> = mutableListOf();\n",
    "    override fun draw(d: Deck){\n",
    "        hand.add(CardItem(d.draw().card, true));\n",
    "    }\n",
    "    override fun put(d: Deck){\n",
    "        var num: Int = MyUtil.readNonNegativeIntUntilSuccess()\n",
    "        d.put(hand[num]);\n",
    "        hand.removeAt(num);\n",
    "\n",
    "    }\n",
    "    override fun toHTML(): String{\n",
    "        val m: String = hand.fold(MyUtil.style)\n",
    "        { \n",
    "            acc, c -> acc + \"\"\"<span class='card deck' style='color: ${if (c.up) c.color() else \"black\"};'>${c.show()}</span>\"\"\"\n",
    "        }\n",
    "        return m\n",
    "    }\n",
    "}"
   ]
  },
  {
   "cell_type": "code",
   "execution_count": 23,
   "metadata": {
    "datalore": {
     "hide_input_from_viewers": true,
     "hide_output_from_viewers": true,
     "node_id": "UTNVSU0Z2ISNyJduhcF5tp",
     "type": "CODE"
    }
   },
   "outputs": [],
   "source": [
    "class ComputerPlayer : Player, ToHTML{\n",
    "    override val hand: MutableList<CardItem> = mutableListOf();\n",
    "    override fun draw(d: Deck){\n",
    "        hand.add(CardItem(d.draw().card, false));\n",
    "    }\n",
    "    override fun put(d: Deck){\n",
    "        d.put(hand[0]);\n",
    "        hand.removeAt(0);\n",
    "\n",
    "    }\n",
    "    override fun toHTML(): String{\n",
    "        val m: String = hand.fold(MyUtil.style)\n",
    "        { \n",
    "            acc, c -> acc + \"\"\"<span class='card deck' style='color: ${if (c.up) c.color() else \"black\"};'>${c.show()}</span>\"\"\"\n",
    "        }\n",
    "        return m\n",
    "    }\n",
    "}"
   ]
  },
  {
   "cell_type": "code",
   "execution_count": 27,
   "metadata": {
    "datalore": {
     "hide_input_from_viewers": false,
     "hide_output_from_viewers": false,
     "node_id": "YnAEqdfRfwTj4ALa5ha2HF",
     "report_properties": {},
     "type": "CODE"
    }
   },
   "outputs": [
    {
     "data": {
      "text/html": [
       "\n",
       "<style>\n",
       "@import url('https://fonts.googleapis.com/css2?family=Noto+Sans+Symbols+2&display=swap');\n",
       ".card {\n",
       "    display: inline-block; \n",
       "    font-size: 60pt; height: 62pt;\n",
       "    font-family: \"Noto Sans Symbols 2\", sans-serif;\n",
       "    background: rgba(255,255,255, 1) !important;\n",
       "}\n",
       ".deck { margin-right:-32pt; }\n",
       "</style>\n",
       "<span class='card deck' style='color: black;'>🂠</span><span class='card deck' style='color: black;'>🂠</span><span class='card deck' style='color: black;'>🂠</span><span class='card deck' style='color: black;'>🂠</span><span class='card deck' style='color: black;'>🂠</span><span class='card deck' style='color: black;'>🂠</span><span class='card deck' style='color: black;'>🂠</span><span class='card deck' style='color: black;'>🂠</span><span class='card deck' style='color: black;'>🂠</span><span class='card deck' style='color: black;'>🂠</span><span class='card deck' style='color: black;'>🂠</span><span class='card deck' style='color: black;'>🂠</span><span class='card deck' style='color: black;'>🂠</span><span class='card deck' style='color: black;'>🂠</span><span class='card deck' style='color: black;'>🂠</span><span class='card deck' style='color: black;'>🂠</span><span class='card deck' style='color: black;'>🂠</span><span class='card deck' style='color: black;'>🂠</span><span class='card deck' style='color: black;'>🂠</span><span class='card deck' style='color: black;'>🂠</span><span class='card deck' style='color: black;'>🂠</span><span class='card deck' style='color: black;'>🂠</span><span class='card deck' style='color: black;'>🂠</span><span class='card deck' style='color: black;'>🂠</span><span class='card deck' style='color: black;'>🂠</span><span class='card deck' style='color: black;'>🂠</span><span class='card deck' style='color: black;'>🂠</span><span class='card deck' style='color: black;'>🂠</span><span class='card deck' style='color: black;'>🂠</span><span class='card deck' style='color: black;'>🂠</span><span class='card deck' style='color: black;'>🂠</span><span class='card deck' style='color: black;'>🂠</span><span class='card deck' style='color: black;'>🂠</span><span class='card deck' style='color: black;'>🂠</span><span class='card deck' style='color: black;'>🂠</span><span class='card deck' style='color: black;'>🂠</span><span class='card deck' style='color: black;'>🂠</span><span class='card deck' style='color: black;'>🂠</span><span class='card deck' style='color: black;'>🂠</span><span class='card deck' style='color: black;'>🂠</span><span class='card deck' style='color: black;'>🂠</span><span class='card deck' style='color: black;'>🂠</span><span class='card deck' style='color: black;'>🂠</span><span class='card deck' style='color: black;'>🂠</span><span class='card deck' style='color: black;'>🂠</span><span class='card deck' style='color: black;'>🂠</span><span class='card deck' style='color: black;'>🂠</span><span class='card deck' style='color: black;'>🂠</span><span class='card deck' style='color: black;'>🂠</span><span class='card deck' style='color: black;'>🂠</span><span class='card deck' style='color: black;'>🂠</span><span class='card deck' style='color: black;'>🂠</span>"
      ]
     },
     "metadata": {},
     "output_type": "display_data"
    }
   ],
   "source": [
    "var deck =GameDeck()\n",
    "HTML(deck.toHTML())"
   ]
  },
  {
   "cell_type": "code",
   "execution_count": 25,
   "metadata": {
    "datalore": {
     "hide_input_from_viewers": true,
     "hide_output_from_viewers": true,
     "node_id": "sB46HimWICs34HxLJ8lgcn",
     "type": "CODE"
    }
   },
   "outputs": [
    {
     "data": {
      "text/plain": [
       "52"
      ]
     },
     "metadata": {},
     "output_type": "display_data"
    }
   ],
   "source": [
    "p_deck.size()"
   ]
  },
  {
   "cell_type": "code",
   "execution_count": 26,
   "metadata": {
    "datalore": {
     "hide_input_from_viewers": true,
     "hide_output_from_viewers": true,
     "node_id": "1ptc3tifFiIlniA06c9SQD",
     "type": "CODE"
    }
   },
   "outputs": [],
   "source": [
    "var c_dec = ComputerPlayer()\n",
    "var p_dec = HumanPlayer()"
   ]
  },
  {
   "cell_type": "code",
   "execution_count": 31,
   "metadata": {
    "datalore": {
     "hide_input_from_viewers": true,
     "hide_output_from_viewers": true,
     "node_id": "YnLDyT2CFg00H3eHUDd0E0",
     "type": "CODE"
    }
   },
   "outputs": [
    {
     "data": {
      "text/html": [
       "\n",
       "<style>\n",
       "@import url('https://fonts.googleapis.com/css2?family=Noto+Sans+Symbols+2&display=swap');\n",
       ".card {\n",
       "    display: inline-block; \n",
       "    font-size: 60pt; height: 62pt;\n",
       "    font-family: \"Noto Sans Symbols 2\", sans-serif;\n",
       "    background: rgba(255,255,255, 1) !important;\n",
       "}\n",
       ".deck { margin-right:-32pt; }\n",
       "</style>\n",
       "<span class='card deck' style='color: red;'>🃊</span><span class='card deck' style='color: red;'>🂽</span><span class='card deck' style='color: black;'>🂧</span><span class='card deck' style='color: black;'>🃝</span>"
      ]
     },
     "metadata": {},
     "output_type": "display_data"
    }
   ],
   "source": [
    "p_dec.draw(deck)\n",
    "HTML(p_dec.toHTML())"
   ]
  },
  {
   "cell_type": "code",
   "execution_count": 33,
   "metadata": {
    "datalore": {
     "hide_input_from_viewers": true,
     "hide_output_from_viewers": true,
     "node_id": "xxkwsAUQCbqYVUlOBADhr2",
     "type": "CODE"
    }
   },
   "outputs": [
    {
     "data": {
      "text/plain": [
       "48"
      ]
     },
     "metadata": {},
     "output_type": "display_data"
    }
   ],
   "source": [
    "deck.size()"
   ]
  },
  {
   "cell_type": "code",
   "execution_count": 34,
   "metadata": {
    "datalore": {
     "hide_input_from_viewers": true,
     "hide_output_from_viewers": true,
     "node_id": "rrlqgZF13Dvo6rUNqSEbHU",
     "type": "CODE"
    }
   },
   "outputs": [
    {
     "name": "stdout",
     "output_type": "stream",
     "text": [
      "stdin: 2\n"
     ]
    },
    {
     "data": {
      "text/html": [
       "\n",
       "<style>\n",
       "@import url('https://fonts.googleapis.com/css2?family=Noto+Sans+Symbols+2&display=swap');\n",
       ".card {\n",
       "    display: inline-block; \n",
       "    font-size: 60pt; height: 62pt;\n",
       "    font-family: \"Noto Sans Symbols 2\", sans-serif;\n",
       "    background: rgba(255,255,255, 1) !important;\n",
       "}\n",
       ".deck { margin-right:-32pt; }\n",
       "</style>\n",
       "<span class='card deck' style='color: red;'>🃊</span><span class='card deck' style='color: red;'>🂽</span><span class='card deck' style='color: black;'>🃝</span>"
      ]
     },
     "metadata": {},
     "output_type": "display_data"
    }
   ],
   "source": [
    "p_dec.put(deck)\n",
    "HTML(p_dec.toHTML())"
   ]
  },
  {
   "cell_type": "code",
   "execution_count": 35,
   "metadata": {
    "datalore": {
     "hide_input_from_viewers": true,
     "hide_output_from_viewers": true,
     "node_id": "NfwCMEuBiJFIOs9B6noSOv",
     "type": "CODE"
    }
   },
   "outputs": [
    {
     "data": {
      "text/plain": [
       "49"
      ]
     },
     "metadata": {},
     "output_type": "display_data"
    }
   ],
   "source": [
    "deck.size()"
   ]
  },
  {
   "cell_type": "code",
   "execution_count": 38,
   "metadata": {
    "datalore": {
     "hide_input_from_viewers": true,
     "hide_output_from_viewers": true,
     "node_id": "ok5wxtO6SyNuW5rHQYCIBN",
     "type": "CODE"
    }
   },
   "outputs": [
    {
     "data": {
      "text/html": [
       "\n",
       "<style>\n",
       "@import url('https://fonts.googleapis.com/css2?family=Noto+Sans+Symbols+2&display=swap');\n",
       ".card {\n",
       "    display: inline-block; \n",
       "    font-size: 60pt; height: 62pt;\n",
       "    font-family: \"Noto Sans Symbols 2\", sans-serif;\n",
       "    background: rgba(255,255,255, 1) !important;\n",
       "}\n",
       ".deck { margin-right:-32pt; }\n",
       "</style>\n",
       "<span class='card deck' style='color: black;'>🂠</span><span class='card deck' style='color: black;'>🂠</span>"
      ]
     },
     "metadata": {},
     "output_type": "display_data"
    }
   ],
   "source": [
    "c_dec.draw(deck)\n",
    "HTML(c_dec.toHTML())"
   ]
  },
  {
   "cell_type": "code",
   "execution_count": 39,
   "metadata": {
    "datalore": {
     "hide_input_from_viewers": true,
     "hide_output_from_viewers": true,
     "node_id": "IAe7wVmJBzKqVM8esnoQ7b",
     "type": "CODE"
    }
   },
   "outputs": [
    {
     "data": {
      "text/plain": [
       "47"
      ]
     },
     "metadata": {},
     "output_type": "display_data"
    }
   ],
   "source": [
    "deck.size()"
   ]
  },
  {
   "cell_type": "code",
   "execution_count": 40,
   "metadata": {
    "datalore": {
     "hide_input_from_viewers": true,
     "hide_output_from_viewers": true,
     "node_id": "Rge0aVNUxOBTQaOfQP0ocM",
     "type": "CODE"
    }
   },
   "outputs": [
    {
     "data": {
      "text/html": [
       "\n",
       "<style>\n",
       "@import url('https://fonts.googleapis.com/css2?family=Noto+Sans+Symbols+2&display=swap');\n",
       ".card {\n",
       "    display: inline-block; \n",
       "    font-size: 60pt; height: 62pt;\n",
       "    font-family: \"Noto Sans Symbols 2\", sans-serif;\n",
       "    background: rgba(255,255,255, 1) !important;\n",
       "}\n",
       ".deck { margin-right:-32pt; }\n",
       "</style>\n",
       "<span class='card deck' style='color: black;'>🂠</span>"
      ]
     },
     "metadata": {},
     "output_type": "display_data"
    }
   ],
   "source": [
    "c_dec.put(deck)\n",
    "HTML(c_dec.toHTML())"
   ]
  },
  {
   "cell_type": "code",
   "execution_count": 41,
   "metadata": {
    "datalore": {
     "hide_input_from_viewers": true,
     "hide_output_from_viewers": true,
     "node_id": "UcV1gLrETYvE7qDAXP6UL0",
     "type": "CODE"
    }
   },
   "outputs": [
    {
     "data": {
      "text/plain": [
       "48"
      ]
     },
     "metadata": {},
     "output_type": "display_data"
    }
   ],
   "source": [
    "deck.size()"
   ]
  },
  {
   "cell_type": "code",
   "execution_count": null,
   "metadata": {
    "datalore": {
     "hide_input_from_viewers": true,
     "hide_output_from_viewers": true,
     "node_id": "S7bFQrc68eJ1oiQWA2ADer",
     "type": "CODE"
    }
   },
   "outputs": [],
   "source": []
  }
 ],
 "metadata": {
  "datalore": {
   "base_environment": "default",
   "computation_mode": "JUPYTER",
   "package_manager": "pip",
   "packages": [],
   "version": 1
  },
  "kernelspec": {
   "display_name": "Kotlin",
   "language": "kotlin",
   "name": "kotlin"
  }
 },
 "nbformat": 4,
 "nbformat_minor": 4
}
